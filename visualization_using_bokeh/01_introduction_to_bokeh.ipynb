{
 "cells": [
  {
   "cell_type": "code",
   "execution_count": 1,
   "metadata": {},
   "outputs": [],
   "source": [
    "from bokeh.plotting import figure\n",
    "from bokeh.io import output_file, show"
   ]
  },
  {
   "cell_type": "markdown",
   "metadata": {},
   "source": [
    "### Adding different types of glyphs "
   ]
  },
  {
   "cell_type": "code",
   "execution_count": 11,
   "metadata": {},
   "outputs": [],
   "source": [
    "plot= figure(plot_width=400, tools='pan,box_zoom')\n",
    "plot.circle([1,2,3,4,5], [8,6,5,2,3])\n",
    "output_file('circle.html')\n",
    "show(plot)"
   ]
  },
  {
   "cell_type": "code",
   "execution_count": 12,
   "metadata": {},
   "outputs": [],
   "source": [
    "plot= figure(plot_width=400, tools='pan,box_zoom')\n",
    "plot.asterisk([1,2,3,4,5], [8,6,5,2,3], size=[10,20,50,30,10])\n",
    "output_file('shape.html')\n",
    "show(plot)"
   ]
  },
  {
   "cell_type": "code",
   "execution_count": 5,
   "metadata": {},
   "outputs": [],
   "source": [
    "p = figure(x_axis_label='X Axis', y_axis_label='Y axis')\n",
    "p.circle([2,4,6,8,10, 12,14,16,18,20], [3,6,9,12,15,18,21,24,27,30])\n",
    "p.x([5,10,15,20,25,30],[1,2,3,4,5,6], color='red', size=10, alpha=0.8)\n",
    "output_file('inside_x.html')\n",
    "show(p)"
   ]
  },
  {
   "cell_type": "code",
   "execution_count": 7,
   "metadata": {},
   "outputs": [],
   "source": [
    "p = figure()\n",
    "x = [1,5,2,7,12]\n",
    "y = [3,2,9,7,5]\n",
    "p.circle(x,y, color='blue', fill_color='white')\n",
    "p.line(x,y,color='red', alpha=0.7)\n",
    "output_file('graph_plot.html')\n",
    "show(p)"
   ]
  },
  {
   "cell_type": "markdown",
   "metadata": {},
   "source": [
    "### Different data sources for plots"
   ]
  },
  {
   "cell_type": "code",
   "execution_count": 10,
   "metadata": {},
   "outputs": [],
   "source": [
    "# Using list as data source\n",
    "p1 = figure()\n",
    "xs = [[1,1,2,2], [2,2,4], [2,2,3,3]]\n",
    "ys=[[2,5,5,2], [3,5,4], [2,3,4,1]]\n",
    "p1.patches(xs,ys, fill_color=['red', 'orange', 'yellow'], line_color='blue')\n",
    "output_file('patches.html')\n",
    "show(p1)"
   ]
  },
  {
   "cell_type": "code",
   "execution_count": 24,
   "metadata": {},
   "outputs": [],
   "source": [
    "# Using numpy arrays as datasource\n",
    "import numpy as np\n",
    "x = np.linspace(-1,1,150)\n",
    "y = np.sin(x) + np.random.random(150) * 0.2\n",
    "p2 = figure()\n",
    "p2.line(x,y)\n",
    "output_file('np_sample.html')\n",
    "show(p2)"
   ]
  },
  {
   "cell_type": "code",
   "execution_count": 25,
   "metadata": {},
   "outputs": [],
   "source": [
    "# Using dataframe as data source\n",
    "from bokeh.sampledata.iris import flowers\n",
    "p3 = figure()\n",
    "p3.asterisk(flowers['sepal_length'], flowers['petal_length'], size=4, color='blue')\n",
    "output_file('flowers.html')\n",
    "show(p3)"
   ]
  },
  {
   "cell_type": "code",
   "execution_count": 58,
   "metadata": {},
   "outputs": [
    {
     "name": "stdout",
     "output_type": "stream",
     "text": [
      "   sepal_length  sepal_width  petal_length  petal_width species\n",
      "0           5.1          3.5           1.4          0.2  setosa\n",
      "1           4.9          3.0           1.4          0.2  setosa\n"
     ]
    }
   ],
   "source": [
    "# Using column data source\n",
    "from bokeh.sampledata.iris import flowers as df\n",
    "from bokeh.models import ColumnDataSource\n",
    "print(df.head(n=2))\n",
    "source = ColumnDataSource(df)\n",
    "#source.data"
   ]
  },
  {
   "cell_type": "code",
   "execution_count": 37,
   "metadata": {},
   "outputs": [],
   "source": [
    "p4 = figure()\n",
    "p4.circle(x='sepal_length', y='sepal_width', source=source, color='black')\n",
    "output_file('col_source.html')\n",
    "show(p4)"
   ]
  },
  {
   "cell_type": "markdown",
   "metadata": {},
   "source": [
    "### Customizing the glyphs"
   ]
  },
  {
   "cell_type": "code",
   "execution_count": 47,
   "metadata": {},
   "outputs": [],
   "source": [
    "p5 = figure(tools='box_select, lasso_select, box_zoom')\n",
    "p5.circle(x='sepal_length', y='sepal_width', source=source, selection_color='black',nonselection_fill_alpha=0.2)\n",
    "output_file('custom_glyph.html')\n",
    "show(p5)"
   ]
  },
  {
   "cell_type": "markdown",
   "metadata": {},
   "source": [
    "### Hover apperance"
   ]
  },
  {
   "cell_type": "code",
   "execution_count": 55,
   "metadata": {},
   "outputs": [],
   "source": [
    "from bokeh.models import HoverTool\n",
    "hover = HoverTool(tooltips=None, mode='hline')\n",
    "p6 = figure(tools=[hover, 'crosshair'])\n",
    "p6.circle(x,y,size=10,\n",
    "         fill_color='grey', alpha=0.1, line_color=None,\n",
    "         hover_fill_color='firebrick', hover_alpha=0.5,\n",
    "         hover_line_color='white')\n",
    "show(p6)"
   ]
  },
  {
   "cell_type": "code",
   "execution_count": 51,
   "metadata": {},
   "outputs": [],
   "source": [
    "x = 2 + 2*np.random.standard_normal(500)\n",
    "y = 2 + 2*np.random.standard_normal(500)\n",
    "\n",
    "p = figure(tools=\"wheel_zoom,reset\")\n",
    "p.background_fill_color = '#440154'\n",
    "p.grid.visible = False\n",
    "\n",
    "p.hexbin(x, y, size=0.5, hover_color=\"pink\", hover_alpha=0.8)\n",
    "\n",
    "hover = HoverTool(tooltips=[(\"Point\", \"@c\"), (\"(q,r)\", \"(@q, @r)\")])\n",
    "p.add_tools(hover)\n",
    "\n",
    "show(p)"
   ]
  },
  {
   "cell_type": "markdown",
   "metadata": {},
   "source": [
    "### Color Mapping"
   ]
  },
  {
   "cell_type": "code",
   "execution_count": 57,
   "metadata": {},
   "outputs": [],
   "source": [
    "from bokeh.models import CategoricalColorMapper\n",
    "from bokeh.sampledata.iris import flowers as df\n",
    "from bokeh.models import ColumnDataSource\n",
    "\n",
    "src = ColumnDataSource(df)\n",
    "mapper = CategoricalColorMapper(factors=['setosa', 'virginica', 'versicolor'],\n",
    "                               palette=['red', 'green', 'purple'])\n",
    "p7 = figure(x_axis_label='Petal length', y_axis_label='Sepal length')\n",
    "p7.circle(x='petal_length',y='sepal_length', source=src, size=10,\n",
    "          color={'field':'species', 'transform':mapper},\n",
    "          legend_field='species')\n",
    "show(p7)"
   ]
  },
  {
   "cell_type": "markdown",
   "metadata": {},
   "source": [
    "### Intro to Layouts"
   ]
  },
  {
   "cell_type": "code",
   "execution_count": 64,
   "metadata": {},
   "outputs": [],
   "source": [
    "from bokeh.layouts import row\n",
    "p8 = figure()\n",
    "p9 = figure()\n",
    "x = [1,5,2,7,12]\n",
    "y = [3,2,9,7,5]\n",
    "p8.circle(x,y, color='blue', fill_color='black', size=10)\n",
    "p9.line(x,y,color='red', alpha=0.7)\n",
    "layout = row(p8,p9)\n",
    "show(layout)"
   ]
  },
  {
   "cell_type": "code",
   "execution_count": 79,
   "metadata": {},
   "outputs": [],
   "source": [
    "from bokeh.layouts import row, column\n",
    "from bokeh.sampledata.iris import flowers as df\n",
    "from bokeh.models import ColumnDataSource\n",
    "\n",
    "src = ColumnDataSource(df)\n",
    "p10 = figure()\n",
    "p10.circle(x='petal_length',y='petal_width', source=src, color='purple', size=10)\n",
    "p11 = figure()\n",
    "p11.asterisk(x='petal_length',y='sepal_length', source=src, color='green', size=10)\n",
    "p12 = figure()\n",
    "p12.circle(x='sepal_length',y='sepal_width', source=src, size=10, color='red')\n",
    "\n",
    "layout = column(row(p10, p11, sizing_mode='scale_width'), p12, sizing_mode='scale_width')\n",
    "show(layout)"
   ]
  },
  {
   "cell_type": "markdown",
   "metadata": {},
   "source": [
    "### Grid plots"
   ]
  },
  {
   "cell_type": "code",
   "execution_count": 78,
   "metadata": {},
   "outputs": [],
   "source": [
    "from bokeh.layouts import gridplot\n",
    "from bokeh.sampledata.iris import flowers as df\n",
    "from bokeh.models import ColumnDataSource\n",
    "\n",
    "src = ColumnDataSource(df)\n",
    "p10 = figure()\n",
    "p10.circle(x='petal_length',y='petal_width', source=src, color='purple', size=10)\n",
    "p11 = figure()\n",
    "p11.asterisk(x='petal_length',y='sepal_length', source=src, color='green', size=10)\n",
    "p12 = figure()\n",
    "p12.circle(x='sepal_length',y='sepal_width', source=src, size=10, color='red')\n",
    "row1 = [p10, p11]\n",
    "row2 = [p12, None]\n",
    "layout = gridplot([row1,row2], toolbar_location='below')\n",
    "\n",
    "p10.x_range = p11.x_range = p12.x_range\n",
    "p10.y_range = p11.y_range = p12.x_range\n",
    "\n",
    "show(layout)"
   ]
  },
  {
   "cell_type": "markdown",
   "metadata": {},
   "source": [
    "#### Tabbed layouts"
   ]
  },
  {
   "cell_type": "code",
   "execution_count": 77,
   "metadata": {},
   "outputs": [],
   "source": [
    "from bokeh.models.widgets import Tabs, Panel\n",
    "from bokeh.sampledata.iris import flowers as df\n",
    "from bokeh.models import ColumnDataSource\n",
    "\n",
    "src = ColumnDataSource(df)\n",
    "p10 = figure()\n",
    "p10.circle(x='petal_length',y='petal_width', source=src, color='purple', size=10)\n",
    "p11 = figure()\n",
    "p11.asterisk(x='petal_length',y='sepal_length', source=src, color='green', size=10)\n",
    "p12 = figure()\n",
    "p12.circle(x='sepal_length',y='sepal_width', source=src, size=10, color='red')\n",
    "\n",
    "first = Panel(child=row(p10, p11), title='first')\n",
    "second = Panel(child=p12, title='second')\n",
    "\n",
    "tabs= Tabs(tabs=[first, second])\n",
    "show(tabs)"
   ]
  },
  {
   "cell_type": "markdown",
   "metadata": {},
   "source": [
    "### Linked Brushing"
   ]
  },
  {
   "cell_type": "code",
   "execution_count": 80,
   "metadata": {},
   "outputs": [],
   "source": [
    "from bokeh.layouts import row, column\n",
    "from bokeh.sampledata.iris import flowers as df\n",
    "from bokeh.models import ColumnDataSource\n",
    "\n",
    "src = ColumnDataSource(df)\n",
    "p10 = figure(tools='box_select, lasso_select')\n",
    "p10.circle(x='petal_length',y='petal_width', source=src, color='purple', size=10)\n",
    "p11 = figure(tools='box_select, lasso_select')\n",
    "p11.asterisk(x='petal_length',y='sepal_length', source=src, color='green', size=10)\n",
    "p12 = figure(tools='box_select, lasso_select')\n",
    "p12.circle(x='sepal_length',y='sepal_width', source=src, size=10, color='red')\n",
    "\n",
    "layout = row(p10,p11,p12)\n",
    "show(layout)"
   ]
  },
  {
   "cell_type": "markdown",
   "metadata": {},
   "source": [
    "### Annotations and guides"
   ]
  },
  {
   "cell_type": "code",
   "execution_count": 92,
   "metadata": {},
   "outputs": [],
   "source": [
    "from bokeh.models import CategoricalColorMapper\n",
    "from bokeh.sampledata.iris import flowers as df\n",
    "from bokeh.models import ColumnDataSource, HoverTool\n",
    "\n",
    "# Color Mapping\n",
    "src = ColumnDataSource(df)\n",
    "mapper = CategoricalColorMapper(factors=['setosa', 'virginica', 'versicolor'],\n",
    "                                palette=['red', 'green', 'purple'])\n",
    "\n",
    "\n",
    "p13 = figure(x_axis_label='Petal length', y_axis_label='Sepal length', \n",
    "             tools=['box_select', 'lasso_select', 'wheel_zoom'])\n",
    "\n",
    "p13.circle(x='petal_length',y='sepal_length', source=src, size=10,\n",
    "          color={'field':'species', 'transform':mapper},\n",
    "          legend_field ='species')\n",
    "\n",
    "# Hover tools\n",
    "hover = HoverTool(tooltips= [('Species name', '@species'),\n",
    "                             ('Petal length', '@petal_length'),\n",
    "                             ('Sepal length', '@sepal_length')\n",
    "                            ])\n",
    "p13.add_tools(hover)\n",
    "\n",
    "# Legend properties\n",
    "p13.legend.location = 'top_left'\n",
    "p13.legend.background_fill_color = 'lightgray'\n",
    "\n",
    "show(p13)"
   ]
  },
  {
   "cell_type": "code",
   "execution_count": null,
   "metadata": {},
   "outputs": [],
   "source": []
  }
 ],
 "metadata": {
  "kernelspec": {
   "display_name": "Python 3",
   "language": "python",
   "name": "python3"
  },
  "language_info": {
   "codemirror_mode": {
    "name": "ipython",
    "version": 3
   },
   "file_extension": ".py",
   "mimetype": "text/x-python",
   "name": "python",
   "nbconvert_exporter": "python",
   "pygments_lexer": "ipython3",
   "version": "3.7.3"
  }
 },
 "nbformat": 4,
 "nbformat_minor": 2
}
