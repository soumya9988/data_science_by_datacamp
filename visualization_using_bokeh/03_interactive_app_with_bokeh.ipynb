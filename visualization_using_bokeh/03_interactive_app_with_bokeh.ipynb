{
 "cells": [
  {
   "cell_type": "code",
   "execution_count": 14,
   "metadata": {},
   "outputs": [],
   "source": [
    "from numpy.random import random,normal, lognormal\n",
    "from bokeh.models import ColumnDataSource, Select\n",
    "from bokeh.sampledata.iris import flowers as df\n",
    "from bokeh.layouts import row\n",
    "import numpy as np\n",
    "from bokeh.layouts import widgetbox, column\n",
    "from bokeh.models import Slider\n",
    "from bokeh.plotting import figure\n",
    "from bokeh.io import output_file, show, curdoc\n",
    "import pandas as pd\n",
    "\n",
    "N = 1000\n",
    "source = ColumnDataSource(data= {'x' :random(1000), 'y':random(1000)})\n",
    "plot = figure()\n",
    "plot.circle(x='x', y='y', source=source)\n",
    "\n",
    "menu = Select(options=['uniform', 'normal', 'lognormal'], value='uniform', title='Distribution')\n",
    "\n",
    "def callback(attr, old, new):\n",
    "    if menu.value == 'uniform': f = random\n",
    "    elif menu.value == 'normal': f = normal\n",
    "    else: f = lognormal\n",
    "    \n",
    "    source.data = {'x': f(size=N), 'y': f(size=N)}\n",
    "\n",
    "menu.on_change('value', callback)\n",
    "\n",
    "layout = row(menu, plot)\n",
    "curdoc().add_root(layout)"
   ]
  },
  {
   "cell_type": "code",
   "execution_count": 15,
   "metadata": {},
   "outputs": [],
   "source": [
    "# Perform necessary imports\n",
    "from bokeh.sampledata.iris import flowers as df\n",
    "\n",
    "source = ColumnDataSource(data={'x': df.sepal_length, 'y': df.sepal_width})\n",
    "\n",
    "plot = figure()\n",
    "plot.circle(x='x', y='y', source=source)\n",
    "\n",
    "# Create a dropdown Select widget: select    \n",
    "select = Select(title=\"distribution\", options=['sepal_width', 'petal_length'], value='sepal_width')\n",
    "\n",
    "# Define a callback function: update_plot\n",
    "def update_plot(attr, old, new):\n",
    "\n",
    "    if select.value == 'petal_length': \n",
    "        source.data = {'x' : df.sepal_length,'y' : df.petal_length}\n",
    "\n",
    "    else:\n",
    "        source.data = { 'x' : df.sepal_length,'y' : df.sepal_width}\n",
    "\n",
    "\n",
    "# Attach the update_plot callback to the 'value' property of select\n",
    "select.on_change('value', update_plot)\n",
    "\n",
    "# Create layout and add to current document\n",
    "layout = row(select, plot)\n",
    "curdoc().add_root(layout)"
   ]
  },
  {
   "cell_type": "markdown",
   "metadata": {},
   "source": [
    "### Synchronize two drop down"
   ]
  },
  {
   "cell_type": "code",
   "execution_count": 3,
   "metadata": {},
   "outputs": [],
   "source": [
    "# Create two dropdown Select widgets: select1, select2\n",
    "select1 = Select(title='First', options=['A', 'B'], value='A')\n",
    "select2 = Select(title='Second', options=['1', '2', '3'], value='1')\n",
    "\n",
    "# Define a callback function: callback\n",
    "def callback(attr, old, new):\n",
    "    # If select1 is 'A' \n",
    "    if select1.value == 'A':\n",
    "        # Set select2 options to ['1', '2', '3']\n",
    "        select2.options = ['1', '2', '3']\n",
    "\n",
    "        # Set select2 value to '1'\n",
    "        select2.value = '1'\n",
    "    else:\n",
    "        # Set select2 options to ['100', '200', '300']\n",
    "        select2.options = ['100', '200', '300']\n",
    "\n",
    "        # Set select2 value to '100'\n",
    "        select2.value = '100'\n",
    "\n",
    "# Attach the callback to the 'value' property of select1\n",
    "select1.on_change('value', callback)\n",
    "\n",
    "# Create layout and add to current document\n",
    "layout = widgetbox(select1, select2)\n",
    "curdoc().add_root(layout)"
   ]
  },
  {
   "cell_type": "markdown",
   "metadata": {},
   "source": [
    "### Buttons"
   ]
  },
  {
   "cell_type": "code",
   "execution_count": 10,
   "metadata": {},
   "outputs": [],
   "source": [
    "x = np.random.randint(low=0, high=50, size=1000)\n",
    "y = np.sin(x)\n",
    "\n",
    "source = ColumnDataSource(data= {'x' : x, 'y': y})\n",
    "plot = figure()\n",
    "plot.circle(x='x', y='y', source=source)\n",
    "\n",
    "# Create a Button with label 'Update Data'\n",
    "button = Button(label='Update Data')\n",
    "\n",
    "# Define an update callback with no arguments: update\n",
    "def update():\n",
    "\n",
    "    # Compute new y values: y\n",
    "    y = np.cos(x)\n",
    "\n",
    "    # Update the ColumnDataSource data dictionary\n",
    "    source.data = {'x': x, 'y': y}\n",
    "\n",
    "# Add the update callback to the button\n",
    "button.on_click(update)\n",
    "\n",
    "# Create layout and add to current document\n",
    "layout = column(widgetbox(button), plot)\n",
    "curdoc().add_root(layout)"
   ]
  },
  {
   "cell_type": "code",
   "execution_count": 8,
   "metadata": {},
   "outputs": [],
   "source": [
    "# Import CheckboxGroup, RadioGroup, Toggle from bokeh.models\n",
    "from bokeh.models import CheckboxGroup, RadioGroup, Toggle\n",
    "\n",
    "# Add a Toggle: toggle\n",
    "toggle = Toggle(button_type='success', label='Toggle button')\n",
    "\n",
    "# Add a CheckboxGroup: checkbox\n",
    "checkbox = CheckboxGroup(labels=['Option 1', 'Option 2', 'Option 3'], active=[0,1])\n",
    "\n",
    "# Add a RadioGroup: radio\n",
    "radio = RadioGroup(labels=['Option 1', 'Option 2', 'Option 3'])\n",
    "\n",
    "# Add widgetbox(toggle, checkbox, radio) to the current document\n",
    "# curdoc().add_root(widgetbox(toggle, checkbox, radio))\n",
    "show(checkbox)"
   ]
  },
  {
   "cell_type": "code",
   "execution_count": null,
   "metadata": {},
   "outputs": [],
   "source": []
  }
 ],
 "metadata": {
  "kernelspec": {
   "display_name": "Python 3",
   "language": "python",
   "name": "python3"
  },
  "language_info": {
   "codemirror_mode": {
    "name": "ipython",
    "version": 3
   },
   "file_extension": ".py",
   "mimetype": "text/x-python",
   "name": "python",
   "nbconvert_exporter": "python",
   "pygments_lexer": "ipython3",
   "version": "3.7.3"
  }
 },
 "nbformat": 4,
 "nbformat_minor": 2
}
